{
 "cells": [
  {
   "cell_type": "code",
   "execution_count": 1,
   "metadata": {},
   "outputs": [],
   "source": [
    "import pandas as pd\n",
    "import numpy as np\n",
    "import matplotlib.pyplot as plt\n",
    "\n",
    "satellites = {\n",
    "  'MODIS': 1,\n",
    "  'VIIRS': 2\n",
    "}"
   ]
  },
  {
   "cell_type": "code",
   "execution_count": 2,
   "metadata": {},
   "outputs": [
    {
     "data": {
      "image/png": "[encoded data removed]",
      "text/plain": [
       "<Figure size 432x288 with 1 Axes>"
      ]
     },
     "metadata": {},
     "output_type": "display_data"
    }
   ],
   "source": [
    "m1 = pd.read_csv('MODIS-2021.csv')\n",
    "m1['type'] = m1['type'] + 2\n",
    "m2 = pd.read_csv('MODIS-2022-arch.csv')\n",
    "m2['type'] = m2['type'] + 2\n",
    "m3 = pd.read_csv('MODIS-2022.csv')\n",
    "m3['type'] = 1\n",
    "\n",
    "modis = pd.concat([m1, m2, m3], ignore_index=True, names=False)\n",
    "modis['satellite'] = satellites['MODIS']\n",
    "\n",
    "plt.figure(facecolor='white')\n",
    "plt.title(\"MODIS - Distribution of confidence\")\n",
    "plt.hist(modis['confidence'], bins='auto')  # arguments are passed to np.histogram\n",
    "plt.show()"
   ]
  },
  {
   "cell_type": "code",
   "execution_count": 3,
   "metadata": {},
   "outputs": [
    {
     "name": "stdout",
     "output_type": "stream",
     "text": [
      "VIIRS - Low confidence %\n"
     ]
    },
    {
     "data": {
      "text/plain": [
       "6.396893177768065"
      ]
     },
     "execution_count": 3,
     "metadata": {},
     "output_type": "execute_result"
    }
   ],
   "source": [
    "v1 = pd.read_csv('VIIRS-2022.csv')\n",
    "v1['type'] = 1\n",
    "v2 = pd.read_csv('VIIRS-NOAA-2022-arch.csv')\n",
    "v2['type'] = v2['type'] + 2\n",
    "v3 = pd.read_csv('VIIRS-NOAA-2022.csv')\n",
    "v3['type'] = 1\n",
    "\n",
    "viirs = pd.concat([v1, v2, v3], ignore_index=True, names=False)\n",
    "viirs['satellite'] = satellites['VIIRS']\n",
    "\n",
    "print(\"VIIRS - Low confidence %\")\n",
    "cutoff = np.count_nonzero(viirs['confidence'] == 'l') / len(viirs) * 100\n",
    "cutoff"
   ]
  },
  {
   "cell_type": "code",
   "execution_count": 4,
   "metadata": {},
   "outputs": [
    {
     "data": {
      "image/png": "[encoded data removed]",
      "text/plain": [
       "<Figure size 432x288 with 1 Axes>"
      ]
     },
     "metadata": {},
     "output_type": "display_data"
    }
   ],
   "source": [
    "modis['confidence'] = np.where(modis['confidence'] < 30, 'l', 'n')\n",
    "\n",
    "plt.figure(facecolor='white')\n",
    "plt.title(\"MODIS - Distribution of confidence\")\n",
    "plt.hist(modis['confidence'], bins='auto')  # arguments are passed to np.histogram\n",
    "plt.show()"
   ]
  },
  {
   "cell_type": "code",
   "execution_count": 5,
   "metadata": {},
   "outputs": [
    {
     "data": {
      "text/plain": [
       "145343"
      ]
     },
     "execution_count": 5,
     "metadata": {},
     "output_type": "execute_result"
    }
   ],
   "source": [
    "firms = pd.concat([modis, viirs], ignore_index=True, names=False)\n",
    "firms = firms.drop(columns=['daynight', 'version', 'track', 'scan', 'instrument'])\n",
    "\n",
    "firms['confidence'] = np.where(firms['confidence'] == 'l', None, 1)\n",
    "firms['acq_time'] = firms['acq_time'].astype(str)\n",
    "firms['acq_time'] = firms['acq_time'].apply(lambda x: x.rjust(4, '0'))\n",
    "firms['date'] = firms['acq_date'].astype(str) + ' ' + firms['acq_time'].apply(lambda x: f'{x[0]}{x[1]}:{x[2]}{x[3]}:00.000')\n",
    "firms = firms.drop(columns=['acq_date', 'acq_time'])\n",
    "\n",
    "len(firms)"
   ]
  },
  {
   "cell_type": "code",
   "execution_count": 6,
   "metadata": {},
   "outputs": [
    {
     "name": "stdout",
     "output_type": "stream",
     "text": [
      "entries: 145343\n",
      "valid entries 136142\n"
     ]
    },
    {
     "data": {
      "text/html": [
       "<div>\n",
       "<style scoped>\n",
       "    .dataframe tbody tr th:only-of-type {\n",
       "        vertical-align: middle;\n",
       "    }\n",
       "\n",
       "    .dataframe tbody tr th {\n",
       "        vertical-align: top;\n",
       "    }\n",
       "\n",
       "    .dataframe thead th {\n",
       "        text-align: right;\n",
       "    }\n",
       "</style>\n",
       "<table border=\"1\" class=\"dataframe\">\n",
       "  <thead>\n",
       "    <tr style=\"text-align: right;\">\n",
       "      <th></th>\n",
       "      <th>latitude</th>\n",
       "      <th>longitude</th>\n",
       "      <th>brightness</th>\n",
       "      <th>satellite</th>\n",
       "      <th>bright_t31</th>\n",
       "      <th>frp</th>\n",
       "      <th>type</th>\n",
       "      <th>date</th>\n",
       "    </tr>\n",
       "  </thead>\n",
       "  <tbody>\n",
       "    <tr>\n",
       "      <th>48573</th>\n",
       "      <td>48.996780</td>\n",
       "      <td>30.071210</td>\n",
       "      <td>337.46</td>\n",
       "      <td>2</td>\n",
       "      <td>297.42</td>\n",
       "      <td>4.45</td>\n",
       "      <td>1</td>\n",
       "      <td>2022-05-04 11:06:00.000</td>\n",
       "    </tr>\n",
       "    <tr>\n",
       "      <th>52166</th>\n",
       "      <td>48.988530</td>\n",
       "      <td>38.135830</td>\n",
       "      <td>301.72</td>\n",
       "      <td>2</td>\n",
       "      <td>286.12</td>\n",
       "      <td>1.26</td>\n",
       "      <td>1</td>\n",
       "      <td>2022-05-13 00:09:00.000</td>\n",
       "    </tr>\n",
       "    <tr>\n",
       "      <th>96303</th>\n",
       "      <td>49.108421</td>\n",
       "      <td>35.185665</td>\n",
       "      <td>336.46</td>\n",
       "      <td>2</td>\n",
       "      <td>286.31</td>\n",
       "      <td>10.60</td>\n",
       "      <td>2</td>\n",
       "      <td>2022-03-23 11:42:00.000</td>\n",
       "    </tr>\n",
       "    <tr>\n",
       "      <th>18717</th>\n",
       "      <td>46.465200</td>\n",
       "      <td>32.019600</td>\n",
       "      <td>344.70</td>\n",
       "      <td>1</td>\n",
       "      <td>300.10</td>\n",
       "      <td>86.00</td>\n",
       "      <td>2</td>\n",
       "      <td>2022-05-09 08:21:00.000</td>\n",
       "    </tr>\n",
       "    <tr>\n",
       "      <th>85776</th>\n",
       "      <td>47.861790</td>\n",
       "      <td>35.142910</td>\n",
       "      <td>299.56</td>\n",
       "      <td>2</td>\n",
       "      <td>279.50</td>\n",
       "      <td>2.25</td>\n",
       "      <td>1</td>\n",
       "      <td>2022-11-05 00:07:00.000</td>\n",
       "    </tr>\n",
       "    <tr>\n",
       "      <th>88195</th>\n",
       "      <td>51.166729</td>\n",
       "      <td>29.624699</td>\n",
       "      <td>342.72</td>\n",
       "      <td>2</td>\n",
       "      <td>283.00</td>\n",
       "      <td>6.90</td>\n",
       "      <td>2</td>\n",
       "      <td>2022-03-16 10:30:00.000</td>\n",
       "    </tr>\n",
       "    <tr>\n",
       "      <th>51943</th>\n",
       "      <td>49.295680</td>\n",
       "      <td>23.537440</td>\n",
       "      <td>343.38</td>\n",
       "      <td>2</td>\n",
       "      <td>289.41</td>\n",
       "      <td>8.27</td>\n",
       "      <td>1</td>\n",
       "      <td>2022-05-12 11:55:00.000</td>\n",
       "    </tr>\n",
       "    <tr>\n",
       "      <th>103368</th>\n",
       "      <td>48.372154</td>\n",
       "      <td>37.947952</td>\n",
       "      <td>326.07</td>\n",
       "      <td>2</td>\n",
       "      <td>288.43</td>\n",
       "      <td>13.99</td>\n",
       "      <td>2</td>\n",
       "      <td>2022-03-29 09:48:00.000</td>\n",
       "    </tr>\n",
       "    <tr>\n",
       "      <th>12135</th>\n",
       "      <td>48.576500</td>\n",
       "      <td>32.808700</td>\n",
       "      <td>325.00</td>\n",
       "      <td>1</td>\n",
       "      <td>285.60</td>\n",
       "      <td>58.20</td>\n",
       "      <td>2</td>\n",
       "      <td>2022-03-19 11:21:00.000</td>\n",
       "    </tr>\n",
       "    <tr>\n",
       "      <th>14567</th>\n",
       "      <td>48.662400</td>\n",
       "      <td>26.399800</td>\n",
       "      <td>307.80</td>\n",
       "      <td>1</td>\n",
       "      <td>297.20</td>\n",
       "      <td>5.40</td>\n",
       "      <td>2</td>\n",
       "      <td>2022-03-23 10:56:00.000</td>\n",
       "    </tr>\n",
       "  </tbody>\n",
       "</table>\n",
       "</div>"
      ],
      "text/plain": [
       "         latitude  longitude  brightness  satellite  bright_t31    frp  type  \\\n",
       "48573   48.996780  30.071210      337.46          2      297.42   4.45     1   \n",
       "52166   48.988530  38.135830      301.72          2      286.12   1.26     1   \n",
       "96303   49.108421  35.185665      336.46          2      286.31  10.60     2   \n",
       "18717   46.465200  32.019600      344.70          1      300.10  86.00     2   \n",
       "85776   47.861790  35.142910      299.56          2      279.50   2.25     1   \n",
       "88195   51.166729  29.624699      342.72          2      283.00   6.90     2   \n",
       "51943   49.295680  23.537440      343.38          2      289.41   8.27     1   \n",
       "103368  48.372154  37.947952      326.07          2      288.43  13.99     2   \n",
       "12135   48.576500  32.808700      325.00          1      285.60  58.20     2   \n",
       "14567   48.662400  26.399800      307.80          1      297.20   5.40     2   \n",
       "\n",
       "                           date  \n",
       "48573   2022-05-04 11:06:00.000  \n",
       "52166   2022-05-13 00:09:00.000  \n",
       "96303   2022-03-23 11:42:00.000  \n",
       "18717   2022-05-09 08:21:00.000  \n",
       "85776   2022-11-05 00:07:00.000  \n",
       "88195   2022-03-16 10:30:00.000  \n",
       "51943   2022-05-12 11:55:00.000  \n",
       "103368  2022-03-29 09:48:00.000  \n",
       "12135   2022-03-19 11:21:00.000  \n",
       "14567   2022-03-23 10:56:00.000  "
      ]
     },
     "execution_count": 6,
     "metadata": {},
     "output_type": "execute_result"
    }
   ],
   "source": [
    "print(f\"entries: {str(len(firms))}\")\n",
    "firms.dropna(\n",
    "  axis=0,\n",
    "  how='any',\n",
    "  thresh=None,\n",
    "  subset=None,\n",
    "  inplace=True\n",
    ")\n",
    "print(f\"valid entries: {str(len(firms))}\")\n",
    "firms = firms.drop(columns=['confidence'])\n",
    "\n",
    "firms.sample(10)"
   ]
  },
  {
   "cell_type": "code",
   "execution_count": 8,
   "metadata": {},
   "outputs": [],
   "source": [
    "from DBEngine import db_engine\n",
    "\n",
    "def empty(cursor):\n",
    "  query = \"select (select count(1) from firms) = 0\"\n",
    "  cursor.execute(query)\n",
    "  return cursor.fetchone()\n",
    "\n",
    "if(db_engine.execute(empty)[0]):\n",
    "  def insert(cursor):\n",
    "    query = \"insert into firms (date,point,brightness,satellite,brightness_t31,radiative_power,type) values (%(date)s,ST_Point(%(longitude)s,%(latitude)s,4326),%(brightness)s,%(satellite)s,%(bright_t31)s,%(frp)s,%(type)s)\"\n",
    "    cursor.executemany(query, firms.to_dict('records'))\n",
    "\n",
    "  db_engine.execute(insert)\n",
    "  db_engine.commit()"
   ]
  }
 ],
 "metadata": {
  "kernelspec": {
   "display_name": "Python 3.9.12 ('base')",
   "language": "python",
   "name": "python3"
  },
  "language_info": {
   "codemirror_mode": {
    "name": "ipython",
    "version": 3
   },
   "file_extension": ".py",
   "mimetype": "text/x-python",
   "name": "python",
   "nbconvert_exporter": "python",
   "pygments_lexer": "ipython3",
   "version": "3.9.12"
  },
  "orig_nbformat": 4,
  "vscode": {
   "interpreter": {
    "hash": "f80031a9d9a4f2d029b1ea9644754d14e03e42a62e7601de30fe969cc13f6e0e"
   }
  }
 },
 "nbformat": 4,
 "nbformat_minor": 2
}
