{
 "cells": [
  {
   "cell_type": "code",
   "execution_count": 1,
   "metadata": {},
   "outputs": [],
   "source": [
    "import pandas as pd\n",
    "import numpy as np"
   ]
  },
  {
   "cell_type": "code",
   "execution_count": 2,
   "metadata": {},
   "outputs": [
    {
     "name": "stdout",
     "output_type": "stream",
     "text": [
      "entries: 6431\n",
      "valid entries: 6382\n"
     ]
    },
    {
     "data": {
      "text/plain": [
       "array([['Russian Military Presence January 2022', '1'],\n",
       "       ['Russian Allies Presence/Losses', '2'],\n",
       "       ['Russian Military Presence February 2022', '3'],\n",
       "       ['Other', '4'],\n",
       "       ['Civilian Infrastructure Damage March 2022', '5'],\n",
       "       ['Bombing or Explosion Feb - June', '6'],\n",
       "       ['Civilian Infrastructure Damage February 2022', '7'],\n",
       "       ['Civilian Casualty', '8'],\n",
       "       ['Ukrainian Military Losses', '9'],\n",
       "       ['Russian Firing Positions', '10'],\n",
       "       ['Ground Battle', '11'],\n",
       "       ['Military Infrastructure Damage', '12'],\n",
       "       ['Russian Military Losses Feb - June', '13'],\n",
       "       ['Munitions', '14'],\n",
       "       ['Russian Military Presence March 2022', '15'],\n",
       "       ['Detentions or Arrests', '16'],\n",
       "       ['Mass grave or Burial', '17'],\n",
       "       ['Civilian Infrastructure Damage April 2022', '18'],\n",
       "       ['Russian Military Presence April 2022', '19'],\n",
       "       ['Civilian Infrastructure Damage May 2022', '20'],\n",
       "       ['Russian Military Presence May 2022', '21'],\n",
       "       ['Russian Military Presence June 2022', '22'],\n",
       "       ['Civilian Infrastructure Damage June 2022', '23'],\n",
       "       ['Civilian Infrastructure Damage July 2022', '24'],\n",
       "       ['Russian Military Presence July 2022', '25'],\n",
       "       ['Russian Military Losses July - Now', '26'],\n",
       "       ['Bombing or Explosion July - Now', '27'],\n",
       "       ['Civilian Infrastructure Damage August 2022', '28'],\n",
       "       ['Civilian Infrastructure Damage Sep 2022', '29'],\n",
       "       ['Russian Military Presence Sep 2022', '30'],\n",
       "       ['Civilian Infrastructure Damage Oct 2022', '31'],\n",
       "       ['Russian Military Presence Oct 2022', '32']], dtype='<U44')"
      ]
     },
     "execution_count": 2,
     "metadata": {},
     "output_type": "execute_result"
    }
   ],
   "source": [
    "infores = pd.read_csv('2022-11-07.csv')\n",
    "infores = infores.drop(columns=['brief_description', 'country', 'province', 'district', 'town_city', 'arms_munition', 'violence_level', 'geolocation'])\n",
    "print(f\"entries: {str(len(infores))}\")\n",
    "infores.dropna(\n",
    "  axis=0,\n",
    "  how='any',\n",
    "  thresh=None,\n",
    "  subset=None,\n",
    "  inplace=True\n",
    ")\n",
    "print(f\"valid entries: {str(len(infores))}\")\n",
    "\n",
    "event_categories = infores['event_group'].unique()\n",
    "event_categories = np.array([(x, i + 1) for i, x in enumerate(event_categories)])\n",
    "event_categories"
   ]
  },
  {
   "cell_type": "code",
   "execution_count": null,
   "metadata": {},
   "outputs": [],
   "source": [
    "from DBEngine import db_engine\n",
    "\n",
    "def empty(cursor):\n",
    "  query = \"select (select count(1) from info_res) = 0\"\n",
    "  cursor.execute(query)\n",
    "  return cursor.fetchone()\n",
    "\n",
    "if(db_engine.execute(empty)[0]):\n",
    "  def insert(cursor):\n",
    "    args_str = ','.join([cursor.mogrify(\"(%s,%s)\", (x[1], x[0])).decode('utf-8') for x in event_categories])\n",
    "    query = \"insert into info_res_event_categories values \" + args_str\n",
    "    cursor.execute(query)\n",
    "\n",
    "  db_engine.execute(insert)\n",
    "  db_engine.commit()\n",
    "\n",
    "  def insert(cursor):\n",
    "    categories = dict(event_categories)\n",
    "    infores['event_group'] = [int(categories[x]) for x in infores['event_group']]\n",
    "    query = \"insert into info_res (entry,date,event_group,title,link,point) values (%(entry)s,%(date)s,%(event_group)s,%(title)s,%(link)s,ST_Point(%(lon)s,%(lat)s,4326))\"\n",
    "    cursor.executemany(query, infores.to_dict('records'))\n",
    "\n",
    "  db_engine.execute(insert)\n",
    "  db_engine.commit()"
   ]
  }
 ],
 "metadata": {
  "kernelspec": {
   "display_name": "Python 3.9.12 ('base')",
   "language": "python",
   "name": "python3"
  },
  "language_info": {
   "codemirror_mode": {
    "name": "ipython",
    "version": 3
   },
   "file_extension": ".py",
   "mimetype": "text/x-python",
   "name": "python",
   "nbconvert_exporter": "python",
   "pygments_lexer": "ipython3",
   "version": "3.9.12"
  },
  "orig_nbformat": 4,
  "vscode": {
   "interpreter": {
    "hash": "f80031a9d9a4f2d029b1ea9644754d14e03e42a62e7601de30fe969cc13f6e0e"
   }
  }
 },
 "nbformat": 4,
 "nbformat_minor": 2
}
