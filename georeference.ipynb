{
 "cells": [
  {
   "cell_type": "code",
   "execution_count": 1,
   "metadata": {},
   "outputs": [],
   "source": [
    "import numpy as np"
   ]
  },
  {
   "cell_type": "code",
   "execution_count": 37,
   "metadata": {},
   "outputs": [],
   "source": [
    "def get_firms_ids(cursor):\n",
    "  query = \"select id from firms offset 3000 limit 10\"\n",
    "  cursor.execute(query)\n",
    "  return cursor.fetchall()\n",
    "\n",
    "def compute_geo_firms(id):\n",
    "  query = \"\"\"\n",
    "    with\n",
    "    envelope as (\n",
    "      select ST_MakeEnvelope(\n",
    "        ST_X(ST_Project(firms.point, 1000, radians(90))::geometry), \n",
    "        ST_Y(ST_Project(firms.point, 1000, radians(180))::geometry), \n",
    "        ST_X(ST_Project(firms.point, 1000, radians(-90))::geometry),\n",
    "        ST_Y(ST_Project(firms.point, 1000, radians(0))::geometry),\n",
    "        4326\n",
    "      ) as geom, firms.point as point, date, brightness, brightness_t31, radiative_power\n",
    "      from firms where id = %(id)s\n",
    "    ),\n",
    "    roads as (\n",
    "      select ST_Union(ST_Intersection(envelope.geom, ukraine_roads.geom)) as geom\n",
    "      from ukraine_roads, envelope\n",
    "      where ST_Intersects(envelope.geom, ukraine_roads.geom)\n",
    "    ),\n",
    "    rails as (\n",
    "      select ST_Union(ST_Intersection(envelope.geom, ukraine_railways.geom)) as geom\n",
    "      from ukraine_railways, envelope\n",
    "      where ST_Intersects(envelope.geom, ukraine_railways.geom)\n",
    "    ),\n",
    "    settlements as (\n",
    "      select population, ukraine_settlements.geom as geom, name,\n",
    "      ST_Distance(ukraine_settlements.geom::geography, envelope.point::geography) as distance\n",
    "      from ukraine_settlements, envelope\n",
    "      where population > 0\n",
    "      order by distance asc\n",
    "      limit 10\n",
    "    ),\n",
    "    center as (\n",
    "      select ARRAY_AGG(population) as population, ARRAY_AGG(distance) as distance from settlements\n",
    "    )\n",
    "    select \n",
    "    \tST_X(envelope.point) as lon, ST_Y(envelope.point) as lat,\n",
    "      date, brightness, brightness_t31, radiative_power,\n",
    "      ST_Distance(roads.geom::geography, envelope.point::geography) as dist_road,\n",
    "      ST_Distance(rails.geom::geography, envelope.point::geography) as dist_rail,\n",
    "      population, distance\n",
    "    from roads, rails, envelope, center\n",
    "  \"\"\"\n",
    "  def execute(cursor):\n",
    "    cursor.execute(query, { \"id\": id })\n",
    "    return cursor.fetchall()\n",
    "    \n",
    "  return execute"
   ]
  },
  {
   "cell_type": "code",
   "execution_count": 48,
   "metadata": {},
   "outputs": [
    {
     "name": "stdout",
     "output_type": "stream",
     "text": [
      "id 3001: (36.7716, 47.909, datetime.date(2021, 7, 16), 302.0, 291.5, 6.3, 319.85526072, None, 4.7463761704619545)\n",
      "id 3002: (33.4385, 47.8731, datetime.date(2021, 7, 16), 304.6, 293.3, 4.1, 160.79158514, 44.13766776, 887.4355903293175)\n",
      "id 3003: (30.6275, 48.164, datetime.date(2021, 7, 16), 302.7, 284.0, 5.4, 560.61788907, 618.88624689, 18.345407964324487)\n",
      "id 3004: (30.6141, 48.1619, datetime.date(2021, 7, 16), 320.1, 286.8, 18.7, 267.66441539, 1.40085317, 21.609056434977298)\n",
      "id 3005: (37.5975, 47.0999, datetime.date(2021, 7, 16), 307.5, 296.4, 9.6, 50.25190954, 80.71025044, 762.188420588241)\n",
      "id 3006: (34.2716, 50.0018, datetime.date(2021, 7, 16), 303.2, 290.3, 5.7, 948.87788891, None, 3.3303360799413717)\n",
      "id 3007: (34.2854, 49.9999, datetime.date(2021, 7, 16), 301.2, 290.3, 4.5, 492.07627511, None, 3.7314483878568923)\n",
      "id 3008: (37.7058, 48.1671, datetime.date(2021, 7, 16), 302.4, 292.2, 6.3, 42.67795509, 66.18015291, 55.14150945439602)\n",
      "id 3009: (34.9793, 48.4892, datetime.date(2021, 7, 16), 307.8, 292.9, 7.3, 209.19131513, 8.91836301, 1524.5651617782428)\n",
      "id 3010: (37.5632, 47.1602, datetime.date(2021, 7, 16), 308.6, 294.0, 9.7, 9.70172196, 0.84171193, 549.6703475628858)\n"
     ]
    }
   ],
   "source": [
    "from DBEngine import db_engine\n",
    "\n",
    "firms = db_engine.execute(get_firms_ids)\n",
    "for entry in firms:\n",
    "  geo = db_engine.execute(compute_geo_firms(entry[0]))[0]\n",
    "  geo = geo[:8] + (np.mean(np.array(geo[8]) / ((np.array(geo[9]) ** (1/2)) + 1)),)\n",
    "  print(f\"id {str(entry[0])}: {str(geo)}\")"
   ]
  },
  {
   "cell_type": "code",
   "execution_count": null,
   "metadata": {},
   "outputs": [],
   "source": []
  }
 ],
 "metadata": {
  "kernelspec": {
   "display_name": "Python 3.9.12 ('base')",
   "language": "python",
   "name": "python3"
  },
  "language_info": {
   "codemirror_mode": {
    "name": "ipython",
    "version": 3
   },
   "file_extension": ".py",
   "mimetype": "text/x-python",
   "name": "python",
   "nbconvert_exporter": "python",
   "pygments_lexer": "ipython3",
   "version": "3.9.12"
  },
  "orig_nbformat": 4,
  "vscode": {
   "interpreter": {
    "hash": "f80031a9d9a4f2d029b1ea9644754d14e03e42a62e7601de30fe969cc13f6e0e"
   }
  }
 },
 "nbformat": 4,
 "nbformat_minor": 2
}
