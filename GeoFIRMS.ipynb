{
 "cells": [
  {
   "cell_type": "code",
   "execution_count": 2,
   "metadata": {},
   "outputs": [],
   "source": [
    "import numpy as np"
   ]
  },
  {
   "cell_type": "code",
   "execution_count": 3,
   "metadata": {},
   "outputs": [],
   "source": [
    "limit = 10000\n",
    "offset = 0\n",
    "\n",
    "def get_firms_ids(cursor):\n",
    "  query = f\"select id from firms offset {str(offset)} limit {str(limit)}\"\n",
    "  cursor.execute(query)\n",
    "  return cursor.fetchall()\n",
    "\n",
    "def compute_geo_firms(id):\n",
    "  query = \"\"\"\n",
    "    with\n",
    "    envelope as (\n",
    "      select ST_MakeEnvelope(\n",
    "        ST_X(ST_Project(firms.point, 1000, radians(90))::geometry), \n",
    "        ST_Y(ST_Project(firms.point, 1000, radians(180))::geometry), \n",
    "        ST_X(ST_Project(firms.point, 1000, radians(-90))::geometry),\n",
    "        ST_Y(ST_Project(firms.point, 1000, radians(0))::geometry),\n",
    "        4326\n",
    "      ) as geom, firms.point as point, date, brightness, brightness_t31, radiative_power\n",
    "      from firms where id = %(id)s\n",
    "    ),\n",
    "    roads as (\n",
    "      select ST_Union(ST_Intersection(envelope.geom, ukraine_roads.geom)) as geom\n",
    "      from ukraine_roads, envelope\n",
    "      where ST_Intersects(envelope.geom, ukraine_roads.geom)\n",
    "    ),\n",
    "    rails as (\n",
    "      select ST_Union(ST_Intersection(envelope.geom, ukraine_railways.geom)) as geom\n",
    "      from ukraine_railways, envelope\n",
    "      where ST_Intersects(envelope.geom, ukraine_railways.geom)\n",
    "    ),\n",
    "    settlements as (\n",
    "      select population, ukraine_settlements.geom as geom, name,\n",
    "      ST_Distance(ukraine_settlements.geom::geography, envelope.point::geography) as distance\n",
    "      from ukraine_settlements, envelope\n",
    "      where population > 0\n",
    "      order by distance asc\n",
    "      limit 10\n",
    "    ),\n",
    "    center as (\n",
    "      select ARRAY_AGG(population) as population, ARRAY_AGG(distance) as distance from settlements\n",
    "    )\n",
    "    select \n",
    "    \tST_X(envelope.point) as lon, ST_Y(envelope.point) as lat,\n",
    "      date, brightness, brightness_t31, radiative_power,\n",
    "      ST_Distance(roads.geom::geography, envelope.point::geography) as dist_road,\n",
    "      ST_Distance(rails.geom::geography, envelope.point::geography) as dist_rail,\n",
    "      population, distance\n",
    "    from roads, rails, envelope, center\n",
    "  \"\"\"\n",
    "  def execute(cursor):\n",
    "    cursor.execute(query, { \"id\": id })\n",
    "    return cursor.fetchall()\n",
    "    \n",
    "  return execute\n",
    "\n",
    "def insert_geo_firms(geo):\n",
    "  query = \"\"\"\n",
    "    insert into geo_firms values (%s, ST_Point(%s, %s, 4326), %s, %s, %s, %s, %s, %s, %s)\n",
    "  \"\"\"\n",
    "\n",
    "  def execute(cursor):\n",
    "    cursor.execute(query, geo)\n",
    "    \n",
    "  return execute"
   ]
  },
  {
   "cell_type": "code",
   "execution_count": 12,
   "metadata": {},
   "outputs": [],
   "source": [
    "from DBEngine import db_engine\n",
    "\n",
    "firms = db_engine.execute(get_firms_ids)\n",
    "for entry in firms:\n",
    "  geo = db_engine.execute(compute_geo_firms(entry[0]))[0]\n",
    "  geo = (entry[0],) + geo[:8] + (np.mean(np.array(geo[8]) / ((np.array(geo[9]) ** (1/2)) + 1)),)\n",
    "  db_engine.execute(insert_geo_firms(geo))\n",
    "\n",
    "db_engine.commit()"
   ]
  },
  {
   "cell_type": "code",
   "execution_count": 11,
   "metadata": {},
   "outputs": [
    {
     "name": "stdout",
     "output_type": "stream",
     "text": [
      "130000 10000\n"
     ]
    }
   ],
   "source": [
    "offset += limit\n",
    "limit = 10000\n",
    "print(offset, limit)"
   ]
  },
  {
   "cell_type": "code",
   "execution_count": null,
   "metadata": {},
   "outputs": [],
   "source": [
    "db_engine.rollback()"
   ]
  }
 ],
 "metadata": {
  "kernelspec": {
   "display_name": "Python 3.9.12 ('base')",
   "language": "python",
   "name": "python3"
  },
  "language_info": {
   "codemirror_mode": {
    "name": "ipython",
    "version": 3
   },
   "file_extension": ".py",
   "mimetype": "text/x-python",
   "name": "python",
   "nbconvert_exporter": "python",
   "pygments_lexer": "ipython3",
   "version": "3.9.12"
  },
  "orig_nbformat": 4,
  "vscode": {
   "interpreter": {
    "hash": "f80031a9d9a4f2d029b1ea9644754d14e03e42a62e7601de30fe969cc13f6e0e"
   }
  }
 },
 "nbformat": 4,
 "nbformat_minor": 2
}
