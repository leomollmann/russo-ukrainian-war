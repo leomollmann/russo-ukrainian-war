{
 "cells": [
  {
   "cell_type": "code",
   "execution_count": 322,
   "metadata": {},
   "outputs": [],
   "source": [
    "import numpy as np\n",
    "import matplotlib.pyplot as plt\n",
    "import math\n",
    "\n",
    "def decomposeSum(x): \n",
    "  A = np.array([np.apply_along_axis(np.mean, arr=x, axis=0)])\n",
    "  B = np.rot90(np.array([np.apply_along_axis(np.mean, arr=x, axis=1)]), k=-1)\n",
    "  print(A,B)\n",
    "  return (A, B)"
   ]
  },
  {
   "cell_type": "code",
   "execution_count": 343,
   "metadata": {},
   "outputs": [
    {
     "data": {
      "image/png": "[encoded data removed]",
      "text/plain": [
       "<Figure size 432x288 with 1 Axes>"
      ]
     },
     "metadata": {
      "needs_background": "light"
     },
     "output_type": "display_data"
    },
    {
     "name": "stdout",
     "output_type": "stream",
     "text": [
      "[[0.  0.8 1.4 0.8 0. ]] [[0. ]\n",
      " [0.8]\n",
      " [1.4]\n",
      " [0.8]\n",
      " [0. ]]\n"
     ]
    },
    {
     "data": {
      "image/png": "[encoded data removed]",
      "text/plain": [
       "<Figure size 432x288 with 1 Axes>"
      ]
     },
     "metadata": {
      "needs_background": "light"
     },
     "output_type": "display_data"
    },
    {
     "data": {
      "text/plain": [
       "array([[0.  , 0.  , 0.  , 0.  , 0.  ],\n",
       "       [0.  , 0.64, 1.12, 0.64, 0.  ],\n",
       "       [0.  , 1.12, 1.96, 1.12, 0.  ],\n",
       "       [0.  , 0.64, 1.12, 0.64, 0.  ],\n",
       "       [0.  , 0.  , 0.  , 0.  , 0.  ]])"
      ]
     },
     "execution_count": 343,
     "metadata": {},
     "output_type": "execute_result"
    }
   ],
   "source": [
    "img1 = np.array([\n",
    "  [0,0,0,0,0],\n",
    "  [0,1,2,1,0],\n",
    "  [0,2,3,2,0],\n",
    "  [0,1,2,1,0],\n",
    "  [0,0,0,0,0]\n",
    "])\n",
    "\n",
    "plt.imshow(img1, cmap='gray')\n",
    "plt.title = 'Original'\n",
    "plt.show()\n",
    "\n",
    "(A, B) = decomposeSum(img1)\n",
    "\n",
    "img2 = (A * B)\n",
    "plt.imshow(img2, cmap='gray')\n",
    "plt.title = 'Recombined'\n",
    "plt.show()\n",
    "img2"
   ]
  },
  {
   "cell_type": "code",
   "execution_count": 312,
   "metadata": {},
   "outputs": [
    {
     "data": {
      "text/plain": [
       "array([0, 9, 9, 9, 0])"
      ]
     },
     "execution_count": 312,
     "metadata": {},
     "output_type": "execute_result"
    }
   ],
   "source": [
    "img2.take(1, axis=0)"
   ]
  }
 ],
 "metadata": {
  "kernelspec": {
   "display_name": "Python 3.9.12 ('base')",
   "language": "python",
   "name": "python3"
  },
  "language_info": {
   "codemirror_mode": {
    "name": "ipython",
    "version": 3
   },
   "file_extension": ".py",
   "mimetype": "text/x-python",
   "name": "python",
   "nbconvert_exporter": "python",
   "pygments_lexer": "ipython3",
   "version": "3.9.12"
  },
  "orig_nbformat": 4,
  "vscode": {
   "interpreter": {
    "hash": "f80031a9d9a4f2d029b1ea9644754d14e03e42a62e7601de30fe969cc13f6e0e"
   }
  }
 },
 "nbformat": 4,
 "nbformat_minor": 2
}
